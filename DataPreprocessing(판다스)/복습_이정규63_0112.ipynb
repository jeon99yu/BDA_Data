{
 "cells": [
  {
   "cell_type": "markdown",
   "id": "275a9335",
   "metadata": {},
   "source": [
    "## 시계열 기초문법\n",
    "- datetime\n",
    "    - 날짜와 시간 데이터 다루는 클래스\n",
    "        - year,month, hour...\n",
    "        - strftime : 날짜와 시간을 지정된 문자열 변환 문법\n",
    "        - strptime : 문자열 형식을 형식에 따라 datetime\n",
    "- timedelta\n",
    "    - 두 날짜에 대한 시간의 차이를 계산할 때\n",
    "    - 일,시간 등등 계산\n",
    "- pandas 문법\n",
    "    - pd.to_datetime : 문자열을 -> 시계열 객체로 변환\n",
    "    - pd.date_range : 시계열 날짜를 만들 수도 있음\n",
    "    - 판다스에서 제공하는 시계열 문법\n",
    "        - resample, shift, rolling 등등\n",
    "-----\n",
    "- 시계열 분석을 하기 전 이해해야 하는 몇 가지 내용\n",
    "\n",
    "- 시간대 -UTC, KST\n",
    "    - UTC (Coordinated Universal Time)\n",
    "        - 기준 점 - 국제간 데이터 전송 등 기준이 되는 시간\n",
    "    \n",
    "    - KST (Korea Standard Time)\n",
    "        - UTC + 9 기준\n",
    "- timestamp\n",
    "    - 몇시 몇분 몇초 -> 1231231 숫자로 표현할 수 있다.\n",
    "    - evnet_timestamp - 123135743153 <-> YYYY mm dd HH : MM : SS\n",
    "    "
   ]
  },
  {
   "cell_type": "code",
   "execution_count": 2,
   "id": "23e78fcc",
   "metadata": {},
   "outputs": [
    {
     "data": {
      "text/plain": [
       "datetime.datetime(2025, 1, 12, 20, 8, 4, 466586)"
      ]
     },
     "execution_count": 2,
     "metadata": {},
     "output_type": "execute_result"
    }
   ],
   "source": [
    "#시계열 기초 문법\n",
    "\n",
    "import datetime\n",
    "datetime.datetime.now() #오늘 날짜"
   ]
  },
  {
   "cell_type": "code",
   "execution_count": 6,
   "id": "43e0b64a",
   "metadata": {},
   "outputs": [
    {
     "name": "stdout",
     "output_type": "stream",
     "text": [
      "2026-01-12 20:08:04.012312\n"
     ]
    }
   ],
   "source": [
    "#시계열 데이터를 만들 수 있다.\n",
    "new_time=datetime.datetime(2026,1,12,20,8,4,12312)\n",
    "print(new_time)"
   ]
  },
  {
   "cell_type": "code",
   "execution_count": 7,
   "id": "633f496f",
   "metadata": {},
   "outputs": [
    {
     "data": {
      "text/plain": [
       "datetime.date(2025, 1, 12)"
      ]
     },
     "execution_count": 7,
     "metadata": {},
     "output_type": "execute_result"
    }
   ],
   "source": [
    "# 월,일,당일 이런 데이터를 추출 할 수 있다.\n",
    "datetime.date.today()"
   ]
  },
  {
   "cell_type": "code",
   "execution_count": 12,
   "id": "2d61a07f",
   "metadata": {},
   "outputs": [
    {
     "name": "stdout",
     "output_type": "stream",
     "text": [
      "2026\n",
      "1\n"
     ]
    }
   ],
   "source": [
    "#datetime 형태면 원하는 데이터를 쉽게 추출할 수 있다.\n",
    "print(new_time.year)\n",
    "print(new_time.month)"
   ]
  },
  {
   "cell_type": "code",
   "execution_count": 16,
   "id": "a6f85760",
   "metadata": {},
   "outputs": [
    {
     "data": {
      "text/plain": [
       "'2026-01'"
      ]
     },
     "execution_count": 16,
     "metadata": {},
     "output_type": "execute_result"
    }
   ],
   "source": [
    "##strftime\n",
    "## 20250112/2025-01-12/ 2025112/ 2025/01/12 다양한 데이트 형식\n",
    "## %Y 2025년 %m %d %H %M %S\n",
    "## %y 25년\n",
    "new_time.strftime('%Y-%m')"
   ]
  },
  {
   "cell_type": "code",
   "execution_count": 17,
   "id": "d070e8b6",
   "metadata": {},
   "outputs": [
    {
     "data": {
      "text/plain": [
       "'2026-01-12'"
      ]
     },
     "execution_count": 17,
     "metadata": {},
     "output_type": "execute_result"
    }
   ],
   "source": [
    "new_time.strftime('%Y-%m-%d')"
   ]
  },
  {
   "cell_type": "code",
   "execution_count": 18,
   "id": "9e54dfc5",
   "metadata": {},
   "outputs": [
    {
     "data": {
      "text/plain": [
       "'26-01-12'"
      ]
     },
     "execution_count": 18,
     "metadata": {},
     "output_type": "execute_result"
    }
   ],
   "source": [
    "new_time.strftime('%y-%m-%d')"
   ]
  },
  {
   "cell_type": "code",
   "execution_count": 20,
   "id": "8da7b7c1",
   "metadata": {},
   "outputs": [],
   "source": [
    "cv_date=datetime.datetime.strptime('2026-01-30 21:05:12', '%Y-%m-%d %H:%M:%S')"
   ]
  },
  {
   "cell_type": "code",
   "execution_count": 22,
   "id": "0d601e66",
   "metadata": {},
   "outputs": [
    {
     "name": "stdout",
     "output_type": "stream",
     "text": [
      "2026-01-30 21:05:12\n"
     ]
    }
   ],
   "source": [
    "print(cv_date)"
   ]
  },
  {
   "cell_type": "markdown",
   "id": "c67db691",
   "metadata": {},
   "source": [
    "- timedelta \n",
    "- 시계열 차이 계산"
   ]
  },
  {
   "cell_type": "code",
   "execution_count": 25,
   "id": "1f7a9502",
   "metadata": {},
   "outputs": [],
   "source": [
    "td=datetime.timedelta(days=10, hours=3)"
   ]
  },
  {
   "cell_type": "code",
   "execution_count": 27,
   "id": "2019b9be",
   "metadata": {},
   "outputs": [
    {
     "data": {
      "text/plain": [
       "datetime.datetime(2026, 2, 10, 0, 5, 12)"
      ]
     },
     "execution_count": 27,
     "metadata": {},
     "output_type": "execute_result"
    }
   ],
   "source": [
    "#timedelta 값을 계산 \n",
    "cv_date + td"
   ]
  },
  {
   "cell_type": "code",
   "execution_count": 28,
   "id": "405acbc9",
   "metadata": {},
   "outputs": [
    {
     "data": {
      "text/plain": [
       "datetime.datetime(2026, 1, 20, 18, 5, 12)"
      ]
     },
     "execution_count": 28,
     "metadata": {},
     "output_type": "execute_result"
    }
   ],
   "source": [
    "cv_date - td"
   ]
  },
  {
   "cell_type": "code",
   "execution_count": 29,
   "id": "fc028729",
   "metadata": {},
   "outputs": [
    {
     "data": {
      "text/plain": [
       "4"
      ]
     },
     "execution_count": 29,
     "metadata": {},
     "output_type": "execute_result"
    }
   ],
   "source": [
    "## 만약 요일이 필요하다.\n",
    "## 6일요일 5토요일....0월요일\n",
    "cv_date.weekday()"
   ]
  },
  {
   "cell_type": "code",
   "execution_count": 30,
   "id": "c6db1322",
   "metadata": {},
   "outputs": [
    {
     "data": {
      "text/plain": [
       "datetime.datetime(2026, 2, 2, 21, 5, 12)"
      ]
     },
     "execution_count": 30,
     "metadata": {},
     "output_type": "execute_result"
    }
   ],
   "source": [
    "# 다음날의 평일 같은 경우를 계산하는 경우\n",
    "cv_date + datetime.timedelta(days = (7-cv_date.weekday())%7)"
   ]
  },
  {
   "cell_type": "code",
   "execution_count": 36,
   "id": "abe7b49f",
   "metadata": {},
   "outputs": [
    {
     "data": {
      "text/plain": [
       "datetime.datetime(2026, 2, 28, 21, 5, 12)"
      ]
     },
     "execution_count": 36,
     "metadata": {},
     "output_type": "execute_result"
    }
   ],
   "source": [
    "##relativedelta 쉽게 큰기간의 값을 빼거나 더하는 게 가능하다.\n",
    "## 3개월 전, 1년 전, 1개월 전 \n",
    "from dateutil.relativedelta import relativedelta\n",
    "\n",
    "cv_date + relativedelta(month= 2)"
   ]
  },
  {
   "cell_type": "code",
   "execution_count": 38,
   "id": "e3569aad",
   "metadata": {},
   "outputs": [
    {
     "data": {
      "text/plain": [
       "datetime.datetime(2026, 4, 30, 21, 5, 12)"
      ]
     },
     "execution_count": 38,
     "metadata": {},
     "output_type": "execute_result"
    }
   ],
   "source": [
    "# 1월 30일 기준 + 3개월 후 -> 4월 30일\n",
    "cv_date + relativedelta(month= 4)\n"
   ]
  },
  {
   "cell_type": "code",
   "execution_count": 39,
   "id": "e77146a9",
   "metadata": {},
   "outputs": [
    {
     "data": {
      "text/plain": [
       "datetime.datetime(2027, 1, 30, 21, 5, 12)"
      ]
     },
     "execution_count": 39,
     "metadata": {},
     "output_type": "execute_result"
    }
   ],
   "source": [
    "cv_date + relativedelta(years= 1)"
   ]
  },
  {
   "cell_type": "code",
   "execution_count": 40,
   "id": "577d7a34",
   "metadata": {},
   "outputs": [
    {
     "data": {
      "text/plain": [
       "datetime.datetime(2028, 1, 30, 21, 5, 12)"
      ]
     },
     "execution_count": 40,
     "metadata": {},
     "output_type": "execute_result"
    }
   ],
   "source": [
    "cv_date + relativedelta(years= 2)"
   ]
  },
  {
   "cell_type": "code",
   "execution_count": 41,
   "id": "e89fdaf3",
   "metadata": {},
   "outputs": [
    {
     "data": {
      "text/plain": [
       "datetime.datetime(2026, 1, 31, 21, 5, 12)"
      ]
     },
     "execution_count": 41,
     "metadata": {},
     "output_type": "execute_result"
    }
   ],
   "source": [
    "cv_date + relativedelta(days= 1)"
   ]
  },
  {
   "cell_type": "markdown",
   "id": "42de0eff",
   "metadata": {},
   "source": [
    "### 데이터프레임에서 시계열 데이터를 분석할 때"
   ]
  },
  {
   "cell_type": "code",
   "execution_count": 46,
   "id": "121bd737",
   "metadata": {},
   "outputs": [],
   "source": [
    "import pandas as pd\n",
    "date_str = ['2025-01-29', '2025-01-30']\n",
    "df_dates=pd.DataFrame(date_str)"
   ]
  },
  {
   "cell_type": "code",
   "execution_count": 47,
   "id": "7bd5235a",
   "metadata": {},
   "outputs": [
    {
     "data": {
      "text/html": [
       "<div>\n",
       "<style scoped>\n",
       "    .dataframe tbody tr th:only-of-type {\n",
       "        vertical-align: middle;\n",
       "    }\n",
       "\n",
       "    .dataframe tbody tr th {\n",
       "        vertical-align: top;\n",
       "    }\n",
       "\n",
       "    .dataframe thead th {\n",
       "        text-align: right;\n",
       "    }\n",
       "</style>\n",
       "<table border=\"1\" class=\"dataframe\">\n",
       "  <thead>\n",
       "    <tr style=\"text-align: right;\">\n",
       "      <th></th>\n",
       "      <th>0</th>\n",
       "    </tr>\n",
       "  </thead>\n",
       "  <tbody>\n",
       "    <tr>\n",
       "      <th>0</th>\n",
       "      <td>2025-01-29</td>\n",
       "    </tr>\n",
       "    <tr>\n",
       "      <th>1</th>\n",
       "      <td>2025-01-30</td>\n",
       "    </tr>\n",
       "  </tbody>\n",
       "</table>\n",
       "</div>"
      ],
      "text/plain": [
       "            0\n",
       "0  2025-01-29\n",
       "1  2025-01-30"
      ]
     },
     "execution_count": 47,
     "metadata": {},
     "output_type": "execute_result"
    }
   ],
   "source": [
    "df_dates"
   ]
  },
  {
   "cell_type": "code",
   "execution_count": 48,
   "id": "8384bc20",
   "metadata": {},
   "outputs": [
    {
     "name": "stdout",
     "output_type": "stream",
     "text": [
      "<class 'pandas.core.frame.DataFrame'>\n",
      "RangeIndex: 2 entries, 0 to 1\n",
      "Data columns (total 1 columns):\n",
      " #   Column  Non-Null Count  Dtype \n",
      "---  ------  --------------  ----- \n",
      " 0   0       2 non-null      object\n",
      "dtypes: object(1)\n",
      "memory usage: 144.0+ bytes\n"
     ]
    }
   ],
   "source": [
    "#문자열 \n",
    "df_dates.info()\n",
    "\n",
    "#문자열은 시계열이 아니다.\n",
    "#시계열문법을 사용할 수 없다.\n",
    "#pd.to_datetime() #시계열 데이터로 만들기 위해"
   ]
  },
  {
   "cell_type": "code",
   "execution_count": 51,
   "id": "c8384dc0",
   "metadata": {},
   "outputs": [
    {
     "data": {
      "text/plain": [
       "0    2025-01-29\n",
       "1    2025-01-30\n",
       "Name: 0, dtype: object"
      ]
     },
     "execution_count": 51,
     "metadata": {},
     "output_type": "execute_result"
    }
   ],
   "source": [
    "df_dates[0]"
   ]
  },
  {
   "cell_type": "code",
   "execution_count": 52,
   "id": "b575bbd1",
   "metadata": {},
   "outputs": [
    {
     "data": {
      "text/plain": [
       "0   2025-01-29\n",
       "1   2025-01-30\n",
       "Name: 0, dtype: datetime64[ns]"
      ]
     },
     "execution_count": 52,
     "metadata": {},
     "output_type": "execute_result"
    }
   ],
   "source": [
    "pd.to_datetime(df_dates[0]) #시계열 데이터로 만들기 위해\n",
    "# datetime64[ns] -> 시계열 데이터로 변환"
   ]
  },
  {
   "cell_type": "code",
   "execution_count": 53,
   "id": "fe174c68",
   "metadata": {},
   "outputs": [
    {
     "data": {
      "text/plain": [
       "DatetimeIndex(['2025-01-01', '2025-01-02', '2025-01-03', '2025-01-04',\n",
       "               '2025-01-05', '2025-01-06', '2025-01-07', '2025-01-08',\n",
       "               '2025-01-09', '2025-01-10', '2025-01-11', '2025-01-12',\n",
       "               '2025-01-13', '2025-01-14', '2025-01-15', '2025-01-16',\n",
       "               '2025-01-17', '2025-01-18', '2025-01-19', '2025-01-20',\n",
       "               '2025-01-21', '2025-01-22', '2025-01-23', '2025-01-24',\n",
       "               '2025-01-25', '2025-01-26', '2025-01-27', '2025-01-28',\n",
       "               '2025-01-29', '2025-01-30'],\n",
       "              dtype='datetime64[ns]', freq='D')"
      ]
     },
     "execution_count": 53,
     "metadata": {},
     "output_type": "execute_result"
    }
   ],
   "source": [
    "#시계열 데이터의 구간을 나눠서 만들 수 있다.\n",
    "pd.date_range(start='2025-01-01', end='2025-01-30')"
   ]
  },
  {
   "cell_type": "code",
   "execution_count": 56,
   "id": "a939fa68",
   "metadata": {},
   "outputs": [
    {
     "data": {
      "text/plain": [
       "DatetimeIndex(['2025-01-01', '2025-01-02', '2025-01-03', '2025-01-04',\n",
       "               '2025-01-05'],\n",
       "              dtype='datetime64[ns]', freq='D')"
      ]
     },
     "execution_count": 56,
     "metadata": {},
     "output_type": "execute_result"
    }
   ],
   "source": [
    "pd.date_range(start='2025-01-01',periods = 5, freq='D')"
   ]
  },
  {
   "cell_type": "code",
   "execution_count": 57,
   "id": "aa6ab7c8",
   "metadata": {},
   "outputs": [
    {
     "data": {
      "text/plain": [
       "DatetimeIndex(['2025-01-05', '2025-01-12', '2025-01-19', '2025-01-26',\n",
       "               '2025-02-02'],\n",
       "              dtype='datetime64[ns]', freq='W-SUN')"
      ]
     },
     "execution_count": 57,
     "metadata": {},
     "output_type": "execute_result"
    }
   ],
   "source": [
    "pd.date_range(start='2025-01-01',periods = 5, freq='W')"
   ]
  },
  {
   "cell_type": "code",
   "execution_count": 61,
   "id": "9201c727",
   "metadata": {},
   "outputs": [
    {
     "data": {
      "text/plain": [
       "DatetimeIndex(['2025-01-31', '2025-02-28', '2025-03-31', '2025-04-30',\n",
       "               '2025-05-31', '2025-06-30', '2025-07-31', '2025-08-31',\n",
       "               '2025-09-30', '2025-10-31'],\n",
       "              dtype='datetime64[ns]', freq='M')"
      ]
     },
     "execution_count": 61,
     "metadata": {},
     "output_type": "execute_result"
    }
   ],
   "source": [
    "pd.date_range(start='2025-01-01',periods = 10, freq='M')"
   ]
  },
  {
   "cell_type": "markdown",
   "id": "d7bf1fd3",
   "metadata": {},
   "source": [
    "- shift\n",
    "- 판다스에서 행이나 열을 일정한 방향으로 이동시키는 개념\n",
    "    - 이전값, 이후 값 참조할 때 전월비, 전년비, 전일비 계산할 때 \n",
    "    - 변동량 계산 등등\n",
    "    - 간격 조정 생각\n",
    "- DataFrame.shift(periods = '', freq= '', axis=1,0)"
   ]
  },
  {
   "cell_type": "code",
   "execution_count": 62,
   "id": "ce9bba37",
   "metadata": {},
   "outputs": [],
   "source": [
    "## 판다스 문법에서 shift\n",
    "data = {'유저수':[10,20,30,40,50]}\n",
    "df=pd.DataFrame(data, index = pd.date_range('2025-01-01', periods=5))\n"
   ]
  },
  {
   "cell_type": "code",
   "execution_count": 66,
   "id": "492ce975",
   "metadata": {},
   "outputs": [
    {
     "data": {
      "text/html": [
       "<div>\n",
       "<style scoped>\n",
       "    .dataframe tbody tr th:only-of-type {\n",
       "        vertical-align: middle;\n",
       "    }\n",
       "\n",
       "    .dataframe tbody tr th {\n",
       "        vertical-align: top;\n",
       "    }\n",
       "\n",
       "    .dataframe thead th {\n",
       "        text-align: right;\n",
       "    }\n",
       "</style>\n",
       "<table border=\"1\" class=\"dataframe\">\n",
       "  <thead>\n",
       "    <tr style=\"text-align: right;\">\n",
       "      <th></th>\n",
       "      <th>유저수</th>\n",
       "    </tr>\n",
       "  </thead>\n",
       "  <tbody>\n",
       "    <tr>\n",
       "      <th>2025-01-01</th>\n",
       "      <td>10</td>\n",
       "    </tr>\n",
       "    <tr>\n",
       "      <th>2025-01-02</th>\n",
       "      <td>20</td>\n",
       "    </tr>\n",
       "    <tr>\n",
       "      <th>2025-01-03</th>\n",
       "      <td>30</td>\n",
       "    </tr>\n",
       "    <tr>\n",
       "      <th>2025-01-04</th>\n",
       "      <td>40</td>\n",
       "    </tr>\n",
       "    <tr>\n",
       "      <th>2025-01-05</th>\n",
       "      <td>50</td>\n",
       "    </tr>\n",
       "  </tbody>\n",
       "</table>\n",
       "</div>"
      ],
      "text/plain": [
       "            유저수\n",
       "2025-01-01   10\n",
       "2025-01-02   20\n",
       "2025-01-03   30\n",
       "2025-01-04   40\n",
       "2025-01-05   50"
      ]
     },
     "execution_count": 66,
     "metadata": {},
     "output_type": "execute_result"
    }
   ],
   "source": [
    "df"
   ]
  },
  {
   "cell_type": "code",
   "execution_count": 65,
   "id": "bd5c5086",
   "metadata": {},
   "outputs": [
    {
     "data": {
      "text/html": [
       "<div>\n",
       "<style scoped>\n",
       "    .dataframe tbody tr th:only-of-type {\n",
       "        vertical-align: middle;\n",
       "    }\n",
       "\n",
       "    .dataframe tbody tr th {\n",
       "        vertical-align: top;\n",
       "    }\n",
       "\n",
       "    .dataframe thead th {\n",
       "        text-align: right;\n",
       "    }\n",
       "</style>\n",
       "<table border=\"1\" class=\"dataframe\">\n",
       "  <thead>\n",
       "    <tr style=\"text-align: right;\">\n",
       "      <th></th>\n",
       "      <th>유저수</th>\n",
       "    </tr>\n",
       "  </thead>\n",
       "  <tbody>\n",
       "    <tr>\n",
       "      <th>2025-01-01</th>\n",
       "      <td>NaN</td>\n",
       "    </tr>\n",
       "    <tr>\n",
       "      <th>2025-01-02</th>\n",
       "      <td>10.0</td>\n",
       "    </tr>\n",
       "    <tr>\n",
       "      <th>2025-01-03</th>\n",
       "      <td>20.0</td>\n",
       "    </tr>\n",
       "    <tr>\n",
       "      <th>2025-01-04</th>\n",
       "      <td>30.0</td>\n",
       "    </tr>\n",
       "    <tr>\n",
       "      <th>2025-01-05</th>\n",
       "      <td>40.0</td>\n",
       "    </tr>\n",
       "  </tbody>\n",
       "</table>\n",
       "</div>"
      ],
      "text/plain": [
       "             유저수\n",
       "2025-01-01   NaN\n",
       "2025-01-02  10.0\n",
       "2025-01-03  20.0\n",
       "2025-01-04  30.0\n",
       "2025-01-05  40.0"
      ]
     },
     "execution_count": 65,
     "metadata": {},
     "output_type": "execute_result"
    }
   ],
   "source": [
    "#shift 1일\n",
    "df.shift(periods=1)"
   ]
  },
  {
   "cell_type": "code",
   "execution_count": 67,
   "id": "292b37a0",
   "metadata": {},
   "outputs": [
    {
     "data": {
      "text/html": [
       "<div>\n",
       "<style scoped>\n",
       "    .dataframe tbody tr th:only-of-type {\n",
       "        vertical-align: middle;\n",
       "    }\n",
       "\n",
       "    .dataframe tbody tr th {\n",
       "        vertical-align: top;\n",
       "    }\n",
       "\n",
       "    .dataframe thead th {\n",
       "        text-align: right;\n",
       "    }\n",
       "</style>\n",
       "<table border=\"1\" class=\"dataframe\">\n",
       "  <thead>\n",
       "    <tr style=\"text-align: right;\">\n",
       "      <th></th>\n",
       "      <th>유저수</th>\n",
       "    </tr>\n",
       "  </thead>\n",
       "  <tbody>\n",
       "    <tr>\n",
       "      <th>2025-01-01</th>\n",
       "      <td>20.0</td>\n",
       "    </tr>\n",
       "    <tr>\n",
       "      <th>2025-01-02</th>\n",
       "      <td>30.0</td>\n",
       "    </tr>\n",
       "    <tr>\n",
       "      <th>2025-01-03</th>\n",
       "      <td>40.0</td>\n",
       "    </tr>\n",
       "    <tr>\n",
       "      <th>2025-01-04</th>\n",
       "      <td>50.0</td>\n",
       "    </tr>\n",
       "    <tr>\n",
       "      <th>2025-01-05</th>\n",
       "      <td>NaN</td>\n",
       "    </tr>\n",
       "  </tbody>\n",
       "</table>\n",
       "</div>"
      ],
      "text/plain": [
       "             유저수\n",
       "2025-01-01  20.0\n",
       "2025-01-02  30.0\n",
       "2025-01-03  40.0\n",
       "2025-01-04  50.0\n",
       "2025-01-05   NaN"
      ]
     },
     "execution_count": 67,
     "metadata": {},
     "output_type": "execute_result"
    }
   ],
   "source": [
    "df.shift(periods=-1)"
   ]
  },
  {
   "cell_type": "code",
   "execution_count": 68,
   "id": "66fba833",
   "metadata": {},
   "outputs": [
    {
     "data": {
      "text/plain": [
       "2025-01-01     NaN\n",
       "2025-01-02    10.0\n",
       "2025-01-03    10.0\n",
       "2025-01-04    10.0\n",
       "2025-01-05    10.0\n",
       "Freq: D, Name: 유저수, dtype: float64"
      ]
     },
     "execution_count": 68,
     "metadata": {},
     "output_type": "execute_result"
    }
   ],
   "source": [
    "#차이에 대한 계산, 변동량 등 \n",
    "df['유저수']- df['유저수'].shift(1)"
   ]
  },
  {
   "cell_type": "markdown",
   "id": "8f112c60",
   "metadata": {},
   "source": [
    "## UTC, KST\n",
    "\n",
    "- tz_localize - 시간대 정보가 없는 데이터에 특정 시간대를 추가하는 형태\n",
    "    - 2025-01-01 01:00 -> 2025-01-01 01:00 + 09:00 (KST)\n",
    "    - 지역 :(Asia/Seoul)\n",
    "\n",
    "- tz_convert\n",
    "    - 시간대정보가 있는 데이터를 다른 시간대로 변환할 수 있다.\n",
    "    2025-01-01 01:00 + 09:00 (KST) -> 2025-01-01 01:00 (UTC)\n"
   ]
  },
  {
   "cell_type": "code",
   "execution_count": 74,
   "id": "a8facab4",
   "metadata": {},
   "outputs": [
    {
     "data": {
      "text/html": [
       "<div>\n",
       "<style scoped>\n",
       "    .dataframe tbody tr th:only-of-type {\n",
       "        vertical-align: middle;\n",
       "    }\n",
       "\n",
       "    .dataframe tbody tr th {\n",
       "        vertical-align: top;\n",
       "    }\n",
       "\n",
       "    .dataframe thead th {\n",
       "        text-align: right;\n",
       "    }\n",
       "</style>\n",
       "<table border=\"1\" class=\"dataframe\">\n",
       "  <thead>\n",
       "    <tr style=\"text-align: right;\">\n",
       "      <th></th>\n",
       "      <th>유저수</th>\n",
       "    </tr>\n",
       "  </thead>\n",
       "  <tbody>\n",
       "    <tr>\n",
       "      <th>2025-01-01 00:00:00+00:00</th>\n",
       "      <td>10</td>\n",
       "    </tr>\n",
       "    <tr>\n",
       "      <th>2025-01-02 00:00:00+00:00</th>\n",
       "      <td>20</td>\n",
       "    </tr>\n",
       "    <tr>\n",
       "      <th>2025-01-03 00:00:00+00:00</th>\n",
       "      <td>30</td>\n",
       "    </tr>\n",
       "    <tr>\n",
       "      <th>2025-01-04 00:00:00+00:00</th>\n",
       "      <td>40</td>\n",
       "    </tr>\n",
       "    <tr>\n",
       "      <th>2025-01-05 00:00:00+00:00</th>\n",
       "      <td>50</td>\n",
       "    </tr>\n",
       "  </tbody>\n",
       "</table>\n",
       "</div>"
      ],
      "text/plain": [
       "                           유저수\n",
       "2025-01-01 00:00:00+00:00   10\n",
       "2025-01-02 00:00:00+00:00   20\n",
       "2025-01-03 00:00:00+00:00   30\n",
       "2025-01-04 00:00:00+00:00   40\n",
       "2025-01-05 00:00:00+00:00   50"
      ]
     },
     "metadata": {},
     "output_type": "display_data"
    },
    {
     "data": {
      "text/html": [
       "<div>\n",
       "<style scoped>\n",
       "    .dataframe tbody tr th:only-of-type {\n",
       "        vertical-align: middle;\n",
       "    }\n",
       "\n",
       "    .dataframe tbody tr th {\n",
       "        vertical-align: top;\n",
       "    }\n",
       "\n",
       "    .dataframe thead th {\n",
       "        text-align: right;\n",
       "    }\n",
       "</style>\n",
       "<table border=\"1\" class=\"dataframe\">\n",
       "  <thead>\n",
       "    <tr style=\"text-align: right;\">\n",
       "      <th></th>\n",
       "      <th>유저수</th>\n",
       "    </tr>\n",
       "  </thead>\n",
       "  <tbody>\n",
       "    <tr>\n",
       "      <th>2025-01-01 00:00:00+09:00</th>\n",
       "      <td>10</td>\n",
       "    </tr>\n",
       "    <tr>\n",
       "      <th>2025-01-02 00:00:00+09:00</th>\n",
       "      <td>20</td>\n",
       "    </tr>\n",
       "    <tr>\n",
       "      <th>2025-01-03 00:00:00+09:00</th>\n",
       "      <td>30</td>\n",
       "    </tr>\n",
       "    <tr>\n",
       "      <th>2025-01-04 00:00:00+09:00</th>\n",
       "      <td>40</td>\n",
       "    </tr>\n",
       "    <tr>\n",
       "      <th>2025-01-05 00:00:00+09:00</th>\n",
       "      <td>50</td>\n",
       "    </tr>\n",
       "  </tbody>\n",
       "</table>\n",
       "</div>"
      ],
      "text/plain": [
       "                           유저수\n",
       "2025-01-01 00:00:00+09:00   10\n",
       "2025-01-02 00:00:00+09:00   20\n",
       "2025-01-03 00:00:00+09:00   30\n",
       "2025-01-04 00:00:00+09:00   40\n",
       "2025-01-05 00:00:00+09:00   50"
      ]
     },
     "metadata": {},
     "output_type": "display_data"
    }
   ],
   "source": [
    "#UTC변환\n",
    "display(df.tz_localize('UTC'))\n",
    "display(df.tz_localize('Asia/Seoul'))"
   ]
  },
  {
   "cell_type": "code",
   "execution_count": 75,
   "id": "780f41e8",
   "metadata": {},
   "outputs": [],
   "source": [
    "df_utc=df.tz_localize('UTC')"
   ]
  },
  {
   "cell_type": "code",
   "execution_count": 77,
   "id": "1244e964",
   "metadata": {},
   "outputs": [
    {
     "data": {
      "text/html": [
       "<div>\n",
       "<style scoped>\n",
       "    .dataframe tbody tr th:only-of-type {\n",
       "        vertical-align: middle;\n",
       "    }\n",
       "\n",
       "    .dataframe tbody tr th {\n",
       "        vertical-align: top;\n",
       "    }\n",
       "\n",
       "    .dataframe thead th {\n",
       "        text-align: right;\n",
       "    }\n",
       "</style>\n",
       "<table border=\"1\" class=\"dataframe\">\n",
       "  <thead>\n",
       "    <tr style=\"text-align: right;\">\n",
       "      <th></th>\n",
       "      <th>유저수</th>\n",
       "    </tr>\n",
       "  </thead>\n",
       "  <tbody>\n",
       "    <tr>\n",
       "      <th>2025-01-01 09:00:00+09:00</th>\n",
       "      <td>10</td>\n",
       "    </tr>\n",
       "    <tr>\n",
       "      <th>2025-01-02 09:00:00+09:00</th>\n",
       "      <td>20</td>\n",
       "    </tr>\n",
       "    <tr>\n",
       "      <th>2025-01-03 09:00:00+09:00</th>\n",
       "      <td>30</td>\n",
       "    </tr>\n",
       "    <tr>\n",
       "      <th>2025-01-04 09:00:00+09:00</th>\n",
       "      <td>40</td>\n",
       "    </tr>\n",
       "    <tr>\n",
       "      <th>2025-01-05 09:00:00+09:00</th>\n",
       "      <td>50</td>\n",
       "    </tr>\n",
       "  </tbody>\n",
       "</table>\n",
       "</div>"
      ],
      "text/plain": [
       "                           유저수\n",
       "2025-01-01 09:00:00+09:00   10\n",
       "2025-01-02 09:00:00+09:00   20\n",
       "2025-01-03 09:00:00+09:00   30\n",
       "2025-01-04 09:00:00+09:00   40\n",
       "2025-01-05 09:00:00+09:00   50"
      ]
     },
     "execution_count": 77,
     "metadata": {},
     "output_type": "execute_result"
    }
   ],
   "source": [
    "df_utc.tz_convert('Asia/Seoul')"
   ]
  },
  {
   "cell_type": "code",
   "execution_count": 79,
   "id": "afdb980c",
   "metadata": {},
   "outputs": [
    {
     "data": {
      "text/html": [
       "<div>\n",
       "<style scoped>\n",
       "    .dataframe tbody tr th:only-of-type {\n",
       "        vertical-align: middle;\n",
       "    }\n",
       "\n",
       "    .dataframe tbody tr th {\n",
       "        vertical-align: top;\n",
       "    }\n",
       "\n",
       "    .dataframe thead th {\n",
       "        text-align: right;\n",
       "    }\n",
       "</style>\n",
       "<table border=\"1\" class=\"dataframe\">\n",
       "  <thead>\n",
       "    <tr style=\"text-align: right;\">\n",
       "      <th></th>\n",
       "      <th>유저수</th>\n",
       "    </tr>\n",
       "  </thead>\n",
       "  <tbody>\n",
       "    <tr>\n",
       "      <th>2025-01-01 00:00:00+00:00</th>\n",
       "      <td>10</td>\n",
       "    </tr>\n",
       "    <tr>\n",
       "      <th>2025-01-02 00:00:00+00:00</th>\n",
       "      <td>20</td>\n",
       "    </tr>\n",
       "    <tr>\n",
       "      <th>2025-01-03 00:00:00+00:00</th>\n",
       "      <td>30</td>\n",
       "    </tr>\n",
       "    <tr>\n",
       "      <th>2025-01-04 00:00:00+00:00</th>\n",
       "      <td>40</td>\n",
       "    </tr>\n",
       "    <tr>\n",
       "      <th>2025-01-05 00:00:00+00:00</th>\n",
       "      <td>50</td>\n",
       "    </tr>\n",
       "  </tbody>\n",
       "</table>\n",
       "</div>"
      ],
      "text/plain": [
       "                           유저수\n",
       "2025-01-01 00:00:00+00:00   10\n",
       "2025-01-02 00:00:00+00:00   20\n",
       "2025-01-03 00:00:00+00:00   30\n",
       "2025-01-04 00:00:00+00:00   40\n",
       "2025-01-05 00:00:00+00:00   50"
      ]
     },
     "execution_count": 79,
     "metadata": {},
     "output_type": "execute_result"
    }
   ],
   "source": [
    "df_utc"
   ]
  },
  {
   "cell_type": "code",
   "execution_count": 78,
   "id": "309055a2",
   "metadata": {},
   "outputs": [
    {
     "data": {
      "text/html": [
       "<div>\n",
       "<style scoped>\n",
       "    .dataframe tbody tr th:only-of-type {\n",
       "        vertical-align: middle;\n",
       "    }\n",
       "\n",
       "    .dataframe tbody tr th {\n",
       "        vertical-align: top;\n",
       "    }\n",
       "\n",
       "    .dataframe thead th {\n",
       "        text-align: right;\n",
       "    }\n",
       "</style>\n",
       "<table border=\"1\" class=\"dataframe\">\n",
       "  <thead>\n",
       "    <tr style=\"text-align: right;\">\n",
       "      <th></th>\n",
       "      <th>유저수</th>\n",
       "    </tr>\n",
       "  </thead>\n",
       "  <tbody>\n",
       "    <tr>\n",
       "      <th>2025-01-01 09:00:00+09:00</th>\n",
       "      <td>10</td>\n",
       "    </tr>\n",
       "    <tr>\n",
       "      <th>2025-01-02 09:00:00+09:00</th>\n",
       "      <td>20</td>\n",
       "    </tr>\n",
       "    <tr>\n",
       "      <th>2025-01-03 09:00:00+09:00</th>\n",
       "      <td>30</td>\n",
       "    </tr>\n",
       "    <tr>\n",
       "      <th>2025-01-04 09:00:00+09:00</th>\n",
       "      <td>40</td>\n",
       "    </tr>\n",
       "    <tr>\n",
       "      <th>2025-01-05 09:00:00+09:00</th>\n",
       "      <td>50</td>\n",
       "    </tr>\n",
       "  </tbody>\n",
       "</table>\n",
       "</div>"
      ],
      "text/plain": [
       "                           유저수\n",
       "2025-01-01 09:00:00+09:00   10\n",
       "2025-01-02 09:00:00+09:00   20\n",
       "2025-01-03 09:00:00+09:00   30\n",
       "2025-01-04 09:00:00+09:00   40\n",
       "2025-01-05 09:00:00+09:00   50"
      ]
     },
     "execution_count": 78,
     "metadata": {},
     "output_type": "execute_result"
    }
   ],
   "source": [
    "df_utc.tz_convert('Asia/Seoul')"
   ]
  },
  {
   "cell_type": "code",
   "execution_count": 92,
   "id": "83f6d491",
   "metadata": {},
   "outputs": [],
   "source": [
    "import pytz\n",
    "## 버전 이슈로 수기로 만들기\n",
    "utc_time =datetime.datetime(2025,1,1,12,tzinfo=pytz.UTC)\n",
    "kst_time =utc_time.astimezone(pytz.timezone('Asia/Seoul'))"
   ]
  },
  {
   "cell_type": "code",
   "execution_count": 94,
   "id": "1c8c9450",
   "metadata": {},
   "outputs": [
    {
     "data": {
      "text/plain": [
       "datetime.datetime(2025, 1, 1, 12, 0, tzinfo=<UTC>)"
      ]
     },
     "execution_count": 94,
     "metadata": {},
     "output_type": "execute_result"
    }
   ],
   "source": [
    "utc_time"
   ]
  },
  {
   "cell_type": "code",
   "execution_count": 93,
   "id": "45d56b79",
   "metadata": {},
   "outputs": [
    {
     "data": {
      "text/plain": [
       "datetime.datetime(2025, 1, 1, 21, 0, tzinfo=<DstTzInfo 'Asia/Seoul' KST+9:00:00 STD>)"
      ]
     },
     "execution_count": 93,
     "metadata": {},
     "output_type": "execute_result"
    }
   ],
   "source": [
    "kst_time"
   ]
  },
  {
   "cell_type": "markdown",
   "id": "0468848d",
   "metadata": {},
   "source": [
    "## 데이터를 불러와서 분석해 보자!"
   ]
  },
  {
   "cell_type": "code",
   "execution_count": 96,
   "id": "75a65bf1",
   "metadata": {},
   "outputs": [],
   "source": [
    "df=pd.read_csv('crime.csv')"
   ]
  },
  {
   "cell_type": "code",
   "execution_count": 98,
   "id": "f400f461",
   "metadata": {},
   "outputs": [
    {
     "name": "stdout",
     "output_type": "stream",
     "text": [
      "<class 'pandas.core.frame.DataFrame'>\n",
      "RangeIndex: 460911 entries, 0 to 460910\n",
      "Data columns (total 9 columns):\n",
      " #   Column               Non-Null Count   Dtype  \n",
      "---  ------               --------------   -----  \n",
      " 0   Unnamed: 0           460911 non-null  int64  \n",
      " 1   OFFENSE_TYPE_ID      460911 non-null  object \n",
      " 2   OFFENSE_CATEGORY_ID  460911 non-null  object \n",
      " 3   REPORTED_DATE        460911 non-null  object \n",
      " 4   GEO_LON              457296 non-null  float64\n",
      " 5   GEO_LAT              457296 non-null  float64\n",
      " 6   NEIGHBORHOOD_ID      460911 non-null  object \n",
      " 7   IS_CRIME             460911 non-null  int64  \n",
      " 8   IS_TRAFFIC           460911 non-null  int64  \n",
      "dtypes: float64(2), int64(3), object(4)\n",
      "memory usage: 31.6+ MB\n"
     ]
    }
   ],
   "source": [
    "df.info()"
   ]
  },
  {
   "cell_type": "code",
   "execution_count": 100,
   "id": "f2446546",
   "metadata": {},
   "outputs": [],
   "source": [
    "#시계열 데이터로 변환\n",
    "df_1 = df.copy()\n",
    "\n",
    "df_1['REPORTED_DATE'] =pd.to_datetime(df_1['REPORTED_DATE'])"
   ]
  },
  {
   "cell_type": "code",
   "execution_count": 101,
   "id": "04d3eedd",
   "metadata": {},
   "outputs": [
    {
     "name": "stdout",
     "output_type": "stream",
     "text": [
      "<class 'pandas.core.frame.DataFrame'>\n",
      "RangeIndex: 460911 entries, 0 to 460910\n",
      "Data columns (total 9 columns):\n",
      " #   Column               Non-Null Count   Dtype         \n",
      "---  ------               --------------   -----         \n",
      " 0   Unnamed: 0           460911 non-null  int64         \n",
      " 1   OFFENSE_TYPE_ID      460911 non-null  object        \n",
      " 2   OFFENSE_CATEGORY_ID  460911 non-null  object        \n",
      " 3   REPORTED_DATE        460911 non-null  datetime64[ns]\n",
      " 4   GEO_LON              457296 non-null  float64       \n",
      " 5   GEO_LAT              457296 non-null  float64       \n",
      " 6   NEIGHBORHOOD_ID      460911 non-null  object        \n",
      " 7   IS_CRIME             460911 non-null  int64         \n",
      " 8   IS_TRAFFIC           460911 non-null  int64         \n",
      "dtypes: datetime64[ns](1), float64(2), int64(3), object(3)\n",
      "memory usage: 31.6+ MB\n"
     ]
    }
   ],
   "source": [
    "df_1.info()"
   ]
  },
  {
   "cell_type": "code",
   "execution_count": 102,
   "id": "8cea16d2",
   "metadata": {},
   "outputs": [
    {
     "data": {
      "text/html": [
       "<div>\n",
       "<style scoped>\n",
       "    .dataframe tbody tr th:only-of-type {\n",
       "        vertical-align: middle;\n",
       "    }\n",
       "\n",
       "    .dataframe tbody tr th {\n",
       "        vertical-align: top;\n",
       "    }\n",
       "\n",
       "    .dataframe thead th {\n",
       "        text-align: right;\n",
       "    }\n",
       "</style>\n",
       "<table border=\"1\" class=\"dataframe\">\n",
       "  <thead>\n",
       "    <tr style=\"text-align: right;\">\n",
       "      <th></th>\n",
       "      <th>Unnamed: 0</th>\n",
       "      <th>OFFENSE_TYPE_ID</th>\n",
       "      <th>OFFENSE_CATEGORY_ID</th>\n",
       "      <th>REPORTED_DATE</th>\n",
       "      <th>GEO_LON</th>\n",
       "      <th>GEO_LAT</th>\n",
       "      <th>NEIGHBORHOOD_ID</th>\n",
       "      <th>IS_CRIME</th>\n",
       "      <th>IS_TRAFFIC</th>\n",
       "    </tr>\n",
       "  </thead>\n",
       "  <tbody>\n",
       "    <tr>\n",
       "      <th>0</th>\n",
       "      <td>0</td>\n",
       "      <td>traffic-accident-dui-duid</td>\n",
       "      <td>traffic-accident</td>\n",
       "      <td>2014-06-29 02:01:00</td>\n",
       "      <td>-105.000149</td>\n",
       "      <td>39.745753</td>\n",
       "      <td>cbd</td>\n",
       "      <td>0</td>\n",
       "      <td>1</td>\n",
       "    </tr>\n",
       "    <tr>\n",
       "      <th>1</th>\n",
       "      <td>1</td>\n",
       "      <td>vehicular-eluding-no-chase</td>\n",
       "      <td>all-other-crimes</td>\n",
       "      <td>2014-06-29 01:54:00</td>\n",
       "      <td>-104.884660</td>\n",
       "      <td>39.738702</td>\n",
       "      <td>east-colfax</td>\n",
       "      <td>1</td>\n",
       "      <td>0</td>\n",
       "    </tr>\n",
       "    <tr>\n",
       "      <th>2</th>\n",
       "      <td>2</td>\n",
       "      <td>disturbing-the-peace</td>\n",
       "      <td>public-disorder</td>\n",
       "      <td>2014-06-29 02:00:00</td>\n",
       "      <td>-105.020719</td>\n",
       "      <td>39.706674</td>\n",
       "      <td>athmar-park</td>\n",
       "      <td>1</td>\n",
       "      <td>0</td>\n",
       "    </tr>\n",
       "    <tr>\n",
       "      <th>3</th>\n",
       "      <td>3</td>\n",
       "      <td>curfew</td>\n",
       "      <td>public-disorder</td>\n",
       "      <td>2014-06-29 02:18:00</td>\n",
       "      <td>-105.001552</td>\n",
       "      <td>39.769505</td>\n",
       "      <td>sunnyside</td>\n",
       "      <td>1</td>\n",
       "      <td>0</td>\n",
       "    </tr>\n",
       "    <tr>\n",
       "      <th>4</th>\n",
       "      <td>4</td>\n",
       "      <td>aggravated-assault</td>\n",
       "      <td>aggravated-assault</td>\n",
       "      <td>2014-06-29 04:17:00</td>\n",
       "      <td>-105.018557</td>\n",
       "      <td>39.679229</td>\n",
       "      <td>college-view-south-platte</td>\n",
       "      <td>1</td>\n",
       "      <td>0</td>\n",
       "    </tr>\n",
       "    <tr>\n",
       "      <th>...</th>\n",
       "      <td>...</td>\n",
       "      <td>...</td>\n",
       "      <td>...</td>\n",
       "      <td>...</td>\n",
       "      <td>...</td>\n",
       "      <td>...</td>\n",
       "      <td>...</td>\n",
       "      <td>...</td>\n",
       "      <td>...</td>\n",
       "    </tr>\n",
       "    <tr>\n",
       "      <th>460906</th>\n",
       "      <td>460906</td>\n",
       "      <td>burglary-business-by-force</td>\n",
       "      <td>burglary</td>\n",
       "      <td>2017-09-13 05:48:00</td>\n",
       "      <td>-105.033840</td>\n",
       "      <td>39.762365</td>\n",
       "      <td>west-highland</td>\n",
       "      <td>1</td>\n",
       "      <td>0</td>\n",
       "    </tr>\n",
       "    <tr>\n",
       "      <th>460907</th>\n",
       "      <td>460907</td>\n",
       "      <td>weapon-unlawful-discharge-of</td>\n",
       "      <td>all-other-crimes</td>\n",
       "      <td>2017-09-12 20:37:00</td>\n",
       "      <td>-105.040313</td>\n",
       "      <td>39.721264</td>\n",
       "      <td>barnum-west</td>\n",
       "      <td>1</td>\n",
       "      <td>0</td>\n",
       "    </tr>\n",
       "    <tr>\n",
       "      <th>460908</th>\n",
       "      <td>460908</td>\n",
       "      <td>traf-habitual-offender</td>\n",
       "      <td>all-other-crimes</td>\n",
       "      <td>2017-09-12 16:32:00</td>\n",
       "      <td>-104.847024</td>\n",
       "      <td>39.779596</td>\n",
       "      <td>montbello</td>\n",
       "      <td>1</td>\n",
       "      <td>0</td>\n",
       "    </tr>\n",
       "    <tr>\n",
       "      <th>460909</th>\n",
       "      <td>460909</td>\n",
       "      <td>criminal-mischief-other</td>\n",
       "      <td>public-disorder</td>\n",
       "      <td>2017-09-12 13:04:00</td>\n",
       "      <td>-104.949183</td>\n",
       "      <td>39.756353</td>\n",
       "      <td>skyland</td>\n",
       "      <td>1</td>\n",
       "      <td>0</td>\n",
       "    </tr>\n",
       "    <tr>\n",
       "      <th>460910</th>\n",
       "      <td>460910</td>\n",
       "      <td>theft-other</td>\n",
       "      <td>larceny</td>\n",
       "      <td>2017-09-12 09:30:00</td>\n",
       "      <td>-104.985739</td>\n",
       "      <td>39.735045</td>\n",
       "      <td>capitol-hill</td>\n",
       "      <td>1</td>\n",
       "      <td>0</td>\n",
       "    </tr>\n",
       "  </tbody>\n",
       "</table>\n",
       "<p>460911 rows × 9 columns</p>\n",
       "</div>"
      ],
      "text/plain": [
       "        Unnamed: 0               OFFENSE_TYPE_ID OFFENSE_CATEGORY_ID  \\\n",
       "0                0     traffic-accident-dui-duid    traffic-accident   \n",
       "1                1    vehicular-eluding-no-chase    all-other-crimes   \n",
       "2                2          disturbing-the-peace     public-disorder   \n",
       "3                3                        curfew     public-disorder   \n",
       "4                4            aggravated-assault  aggravated-assault   \n",
       "...            ...                           ...                 ...   \n",
       "460906      460906    burglary-business-by-force            burglary   \n",
       "460907      460907  weapon-unlawful-discharge-of    all-other-crimes   \n",
       "460908      460908        traf-habitual-offender    all-other-crimes   \n",
       "460909      460909       criminal-mischief-other     public-disorder   \n",
       "460910      460910                   theft-other             larceny   \n",
       "\n",
       "             REPORTED_DATE     GEO_LON    GEO_LAT            NEIGHBORHOOD_ID  \\\n",
       "0      2014-06-29 02:01:00 -105.000149  39.745753                        cbd   \n",
       "1      2014-06-29 01:54:00 -104.884660  39.738702                east-colfax   \n",
       "2      2014-06-29 02:00:00 -105.020719  39.706674                athmar-park   \n",
       "3      2014-06-29 02:18:00 -105.001552  39.769505                  sunnyside   \n",
       "4      2014-06-29 04:17:00 -105.018557  39.679229  college-view-south-platte   \n",
       "...                    ...         ...        ...                        ...   \n",
       "460906 2017-09-13 05:48:00 -105.033840  39.762365              west-highland   \n",
       "460907 2017-09-12 20:37:00 -105.040313  39.721264                barnum-west   \n",
       "460908 2017-09-12 16:32:00 -104.847024  39.779596                  montbello   \n",
       "460909 2017-09-12 13:04:00 -104.949183  39.756353                    skyland   \n",
       "460910 2017-09-12 09:30:00 -104.985739  39.735045               capitol-hill   \n",
       "\n",
       "        IS_CRIME  IS_TRAFFIC  \n",
       "0              0           1  \n",
       "1              1           0  \n",
       "2              1           0  \n",
       "3              1           0  \n",
       "4              1           0  \n",
       "...          ...         ...  \n",
       "460906         1           0  \n",
       "460907         1           0  \n",
       "460908         1           0  \n",
       "460909         1           0  \n",
       "460910         1           0  \n",
       "\n",
       "[460911 rows x 9 columns]"
      ]
     },
     "execution_count": 102,
     "metadata": {},
     "output_type": "execute_result"
    }
   ],
   "source": [
    "df_1"
   ]
  }
 ],
 "metadata": {
  "kernelspec": {
   "display_name": "Python 3 (ipykernel)",
   "language": "python",
   "name": "python3"
  },
  "language_info": {
   "codemirror_mode": {
    "name": "ipython",
    "version": 3
   },
   "file_extension": ".py",
   "mimetype": "text/x-python",
   "name": "python",
   "nbconvert_exporter": "python",
   "pygments_lexer": "ipython3",
   "version": "3.9.7"
  }
 },
 "nbformat": 4,
 "nbformat_minor": 5
}
